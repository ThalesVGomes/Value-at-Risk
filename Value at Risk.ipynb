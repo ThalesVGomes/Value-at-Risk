{
 "cells": [
  {
   "cell_type": "markdown",
   "id": "e3c834ba",
   "metadata": {},
   "source": [
    "## Functions to calculate the Value at Risk of a given stock or portfolio assuming a parametric T-Distribution of returns.\n",
    "\n",
    "### More information can be found on:\n",
    "https://en.wikipedia.org/wiki/Value_at_risk or https://www.investopedia.com/terms/v/var.asp"
   ]
  },
  {
   "cell_type": "code",
   "execution_count": 1,
   "id": "25e13d36",
   "metadata": {},
   "outputs": [],
   "source": [
    "import numpy as np\n",
    "import pandas as pd\n",
    "from pandas_datareader import DataReader\n",
    "from pandas_datareader._utils import RemoteDataError\n",
    "import scipy.stats as st"
   ]
  },
  {
   "cell_type": "code",
   "execution_count": 2,
   "id": "cd27448f",
   "metadata": {},
   "outputs": [],
   "source": [
    "def ewma_vol(returns, lamb=0.94):\n",
    "    \n",
    "    returns = np.array(returns)\n",
    "    \n",
    "    size = np.array(range(len(returns)))[::-1]\n",
    "    mean = np.mean(returns)\n",
    "    \n",
    "    vol = np.sqrt(np.sum((returns-mean) ** 2 * (1-lamb) * (lamb ** size)))\n",
    "    return vol"
   ]
  },
  {
   "cell_type": "code",
   "execution_count": 3,
   "id": "90f0e816",
   "metadata": {},
   "outputs": [],
   "source": [
    "def ewma_corr(a, b, lamb=0.94):\n",
    "    a = np.array(a)\n",
    "    b = np.array(b)\n",
    "    \n",
    "    size = np.array(range(len(a)))[::-1]\n",
    "    corr = np.sum((1-lamb) * (lamb ** size) * (a - np.mean(a)) * (b - np.mean(b)))\n",
    "    \n",
    "    vol1 = ewma_vol(a, lamb)\n",
    "    vol2 = ewma_vol(b, lamb)\n",
    "    \n",
    "    corr = corr / (vol1 * vol2)\n",
    "    \n",
    "    return corr"
   ]
  },
  {
   "cell_type": "code",
   "execution_count": 4,
   "id": "22f63a33",
   "metadata": {},
   "outputs": [],
   "source": [
    "def Value_at_risk(tickers, date, weights=None, EWMA_model=True, confidence=0.99, samples=252, lamb=0.94):\n",
    "    \n",
    "    \n",
    "    \"\"\"\n",
    "    Calculates the daily Value at Risk of a\n",
    "    given stock or portfolio (list of stocks)\n",
    "    \n",
    "    The model assumes a parametric T-distribution for the returns.\n",
    "    \n",
    "    The returns are modeled as logarithm.\n",
    "\n",
    "    -------------------------------------------------------\n",
    "    tickers:\n",
    "        List of stock names, ex: [GOOG, AAPL] or [GOOG] for just one stock\n",
    "        Important: You must pass the exact name used in https://finance.yahoo.com/\n",
    "    date:\n",
    "        The date of the VaR. \n",
    "        Note: The VaR always refers to the maximum loss of the next day of the date.\n",
    "    weights:\n",
    "        The weight of each stock in the portfolio composition.\n",
    "        If None, assumes a equally weighed portfolio.\n",
    "    EWMA_model:\n",
    "        To calculate the VaR using the EWMA model of volatility and correlation\n",
    "        EWMA means Exponentially Weighted Moving Average\n",
    "    confidence:\n",
    "        The level of confidence of the VaR.\n",
    "    samples:\n",
    "        How many past return days to use to calculate the VaR\n",
    "    lamb:\n",
    "        It's the lambda parameter for EWMA model.\n",
    "        More on: https://www.investopedia.com/articles/07/ewma.asp\n",
    "    \"\"\"\n",
    "    \n",
    "    # Deals with possible errors\n",
    "    \n",
    "    if not isinstance(tickers, list):\n",
    "        raise Exception(\"You must pass the argument tickers as a list.\")\n",
    "        \n",
    "    tickers = [t.upper() for t in tickers]\n",
    "\n",
    "    if weights is None:\n",
    "        q = len(tickers)\n",
    "        weights = np.array([1/q for _ in range(q)]) # Equal weights\n",
    "    else:\n",
    "        if len(weights) != len(tickers):\n",
    "            raise Exception('weights and tickers must have the same size')\n",
    "        weights = np.array(weights)\n",
    "        \n",
    "    # Start processing\n",
    "    \n",
    "    volatility = np.array([])\n",
    "    \n",
    "    start = pd.to_datetime(date, dayfirst=True)\n",
    "    adjust_date = ((30 + samples)/252) * 365 # Some extra days to compensate holidays\n",
    "    start = start - pd.to_timedelta(adjust_date, unit='d') \n",
    "    date = pd.to_datetime(date, dayfirst=True)\n",
    "    \n",
    "    all_data = pd.DataFrame()\n",
    "    \n",
    "    for pos, ticker in enumerate(tickers):\n",
    "        \n",
    "        try:\n",
    "            data = DataReader(ticker, 'yahoo', start, date)\n",
    "        except Exception as e:\n",
    "            print(f\"Couldn't find {ticker} in Yahoo Finance. Error code: {e}\")\n",
    "            \n",
    "        size = data.shape[0]\n",
    "        data = data.iloc[size-(samples+1):]\n",
    "\n",
    "        data[f'Log Returns {ticker}'] = np.log(data['Adj Close'] / data['Adj Close'].shift(1))\n",
    "        data = data[f'Log Returns {ticker}'].to_frame()\n",
    "        data.dropna(inplace=True)\n",
    "        \n",
    "        if EWMA_model:\n",
    "            vol = ewma_vol(data[f'Log Returns {ticker}'], lamb=lamb)\n",
    "        else:\n",
    "            vol = data[f'Log Returns {ticker}'].std(ddof=1)\n",
    "            \n",
    "        volatility = np.append(volatility, vol)\n",
    "        \n",
    "        if pos == 0:\n",
    "            all_data = all_data.append(data)\n",
    "        else:\n",
    "            all_data = pd.merge(all_data, data, left_index=True, right_index=True)\n",
    "            \n",
    "            \n",
    "    if EWMA_model:\n",
    "        corr = all_data.corr(ewma_corr)\n",
    "    else:\n",
    "        corr = all_data.corr()\n",
    "        \n",
    "    factor = st.t.ppf(q=confidence, df=samples)\n",
    "    weights_vol = weights * volatility\n",
    "\n",
    "    var = np.sqrt(np.dot(np.dot(weights_vol.T, corr), weights_vol)) * factor\n",
    "    \n",
    "    return var"
   ]
  },
  {
   "cell_type": "code",
   "execution_count": 5,
   "id": "df56c46b",
   "metadata": {},
   "outputs": [
    {
     "name": "stdout",
     "output_type": "stream",
     "text": [
      "Value at risk = 3.521%\n"
     ]
    }
   ],
   "source": [
    "var = Value_at_risk(['GOOG', 'PETR4.SA', 'ITUB4.SA', 'VALE3.SA'], '12/02/2021', weights=[0.3, 0.1, 0.4, 0.2])\n",
    "print(f'Value at risk = {round(var*100,3)}%')"
   ]
  }
 ],
 "metadata": {
  "kernelspec": {
   "display_name": "Python 3",
   "language": "python",
   "name": "python3"
  },
  "language_info": {
   "codemirror_mode": {
    "name": "ipython",
    "version": 3
   },
   "file_extension": ".py",
   "mimetype": "text/x-python",
   "name": "python",
   "nbconvert_exporter": "python",
   "pygments_lexer": "ipython3",
   "version": "3.8.7"
  }
 },
 "nbformat": 4,
 "nbformat_minor": 5
}
